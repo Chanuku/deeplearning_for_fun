{
 "cells": [
  {
   "cell_type": "code",
   "execution_count": 1,
   "metadata": {},
   "outputs": [],
   "source": [
    "import torch\n",
    "import torch.nn as nn\n",
    "import numpy as np\n",
    "from torchvision import datasets, transforms\n",
    "import helper\n",
    "import matplotlib.pyplot as plt\n",
    "from torch.utils.data import DataLoader\n",
    "\n",
    "%matplotlib inline\n",
    "%config InlineBackend.figure_format = 'retina'\n"
   ]
  },
  {
   "cell_type": "code",
   "execution_count": 2,
   "metadata": {},
   "outputs": [],
   "source": [
    "# Define a transform to normalize the data\n",
    "transform = transforms.Compose([transforms.ToTensor(),\n",
    "                                transforms.Normalize((0.5,), (0.5, ))])\n",
    "# Download and load the training data\n",
    "trainset = datasets.FashionMNIST('~/.pytorch/F_MNIST_data/', download=True, train=True, transform=transform)\n",
    "trainloader = torch.utils.data.DataLoader(trainset, batch_size=64, shuffle=True)\n",
    "\n",
    "# Download and load the test data\n",
    "testset = datasets.FashionMNIST('~/.pytorch/F_MNIST_data/', download=True, train=False, transform=transform)\n",
    "testloader = torch.utils.data.DataLoader(testset, batch_size=64, shuffle=True)"
   ]
  },
  {
   "cell_type": "code",
   "execution_count": 3,
   "metadata": {},
   "outputs": [],
   "source": [
    "def imshow(image, ax=None, title=None, normalize=True):\n",
    "    \"\"\"Imshow for Tensor.\"\"\"\n",
    "    if ax is None:\n",
    "        fig, ax = plt.subplots()\n",
    "    image = image.numpy().transpose((1, 2, 0))\n",
    "\n",
    "    if normalize:\n",
    "        mean = np.array([0.485, 0.456, 0.406])\n",
    "        std = np.array([0.229, 0.224, 0.225])\n",
    "        image = std * image + mean\n",
    "        image = np.clip(image, 0, 1)\n",
    "\n",
    "    ax.imshow(image)\n",
    "    ax.spines['top'].set_visible(False)\n",
    "    ax.spines['right'].set_visible(False)\n",
    "    ax.spines['left'].set_visible(False)\n",
    "    ax.spines['bottom'].set_visible(False)\n",
    "    ax.tick_params(axis='both', length=0)\n",
    "    ax.set_xticklabels('')\n",
    "    ax.set_yticklabels('')\n",
    "\n",
    "    return ax\n"
   ]
  },
  {
   "cell_type": "code",
   "execution_count": 4,
   "metadata": {},
   "outputs": [
    {
     "data": {
      "image/png": "[encoded data removed]",
      "text/plain": [
       "<Figure size 432x288 with 1 Axes>"
      ]
     },
     "metadata": {
      "image/png": {
       "height": 231,
       "width": 231
      },
      "needs_background": "light"
     },
     "output_type": "display_data"
    }
   ],
   "source": [
    "image, label = next(iter(trainloader))\n",
    "imshow(image[0,:]);"
   ]
  },
  {
   "cell_type": "code",
   "execution_count": 5,
   "metadata": {},
   "outputs": [],
   "source": [
    "class Classifier(nn.Module):\n",
    "    def __init__(self):\n",
    "        super().__init__()\n",
    "        self.fc1 = nn.Linear(784, 256)\n",
    "        self.fc2 = nn.Linear(256, 128)\n",
    "        self.fc3 = nn.Linear(128, 64)\n",
    "        self.fc4 = nn.Linear(64, 10)\n",
    "        \n",
    "    def forward(self, x):\n",
    "        x = x.view(x.shape[0], -1)\n",
    "        x = nn.functional.relu(self.fc1(x))\n",
    "        x = nn.functional.relu(self.fc2(x))\n",
    "        x = nn.functional.relu(self.fc3(x))\n",
    "        x = nn.functional.log_softmax(self.fc4(x), dim=1)\n",
    "        \n",
    "        return x\n"
   ]
  },
  {
   "cell_type": "code",
   "execution_count": 6,
   "metadata": {},
   "outputs": [
    {
     "name": "stdout",
     "output_type": "stream",
     "text": [
      "Training loss: 0.5170871927412842\n",
      "Training loss: 0.3914865124533807\n",
      "Training loss: 0.35631317987656796\n",
      "Training loss: 0.33137258636290584\n",
      "Training loss: 0.31669758261838704\n",
      "Training loss: 0.3030032585662947\n",
      "Training loss: 0.2894662113300265\n",
      "Training loss: 0.283583628406911\n",
      "Training loss: 0.27549251487482584\n",
      "Training loss: 0.25974820764350104\n",
      "Training loss: 0.2593495695313602\n",
      "Training loss: 0.2523235815769828\n",
      "Training loss: 0.24344871101825477\n",
      "Training loss: 0.24404824177212298\n",
      "Training loss: 0.23867870717923015\n",
      "Training loss: 0.2358535521649825\n",
      "Training loss: 0.22728033716490528\n",
      "Training loss: 0.22334893488648858\n",
      "Training loss: 0.21305817310045014\n",
      "Training loss: 0.21304548505161489\n"
     ]
    }
   ],
   "source": [
    "model = Classifier()\n",
    "criterion = nn.NLLLoss()\n",
    "optimizer = torch.optim.Adam(model.parameters(), lr=0.003)\n",
    "\n",
    "epochs = 20\n",
    "\n",
    "for e in range(epochs):\n",
    "    running_loss = 0\n",
    "    for images, labels in trainloader:\n",
    "        # 모델에서 훈련\n",
    "        result = model(images)\n",
    "        # 오차 계산\n",
    "        loss = criterion(result, labels)\n",
    "        \n",
    "        # 초기화\n",
    "        optimizer.zero_grad()\n",
    "        # 역전파\n",
    "        loss.backward()\n",
    "        # 스텝\n",
    "        optimizer.step()\n",
    "        \n",
    "        # 오차값을 총 오차에 더함\n",
    "        running_loss += loss.item()\n",
    "    else:\n",
    "        print(f\"Training loss: {running_loss/len(trainloader)}\")\n"
   ]
  },
  {
   "cell_type": "code",
   "execution_count": 7,
   "metadata": {},
   "outputs": [],
   "source": [
    "dataiter = iter(testloader)\n",
    "images, labels = dataiter.next()\n",
    "img = images[0]\n",
    "img = img.resize_(1, 784)\n",
    "ps = torch.exp(model(img))\n",
    "#view_classify(img.resize_(1, 28, 28), ps, version='Fashion')"
   ]
  },
  {
   "cell_type": "code",
   "execution_count": 8,
   "metadata": {},
   "outputs": [
    {
     "name": "stdout",
     "output_type": "stream",
     "text": [
      "Epoch: 1/30..  Training Loss: 0.514..  Test Loss: 0.457..  Test Accuracy: 0.833\n",
      "Epoch: 2/30..  Training Loss: 0.390..  Test Loss: 0.434..  Test Accuracy: 0.845\n",
      "Epoch: 3/30..  Training Loss: 0.355..  Test Loss: 0.388..  Test Accuracy: 0.864\n",
      "Epoch: 4/30..  Training Loss: 0.338..  Test Loss: 0.374..  Test Accuracy: 0.868\n",
      "Epoch: 5/30..  Training Loss: 0.318..  Test Loss: 0.383..  Test Accuracy: 0.864\n",
      "Epoch: 6/30..  Training Loss: 0.302..  Test Loss: 0.397..  Test Accuracy: 0.863\n",
      "Epoch: 7/30..  Training Loss: 0.292..  Test Loss: 0.355..  Test Accuracy: 0.874\n",
      "Epoch: 8/30..  Training Loss: 0.278..  Test Loss: 0.366..  Test Accuracy: 0.872\n",
      "Epoch: 9/30..  Training Loss: 0.273..  Test Loss: 0.376..  Test Accuracy: 0.873\n",
      "Epoch: 10/30..  Training Loss: 0.268..  Test Loss: 0.360..  Test Accuracy: 0.874\n",
      "Epoch: 11/30..  Training Loss: 0.260..  Test Loss: 0.393..  Test Accuracy: 0.873\n",
      "Epoch: 12/30..  Training Loss: 0.252..  Test Loss: 0.393..  Test Accuracy: 0.866\n",
      "Epoch: 13/30..  Training Loss: 0.250..  Test Loss: 0.377..  Test Accuracy: 0.876\n",
      "Epoch: 14/30..  Training Loss: 0.247..  Test Loss: 0.387..  Test Accuracy: 0.874\n",
      "Epoch: 15/30..  Training Loss: 0.236..  Test Loss: 0.374..  Test Accuracy: 0.879\n",
      "Epoch: 16/30..  Training Loss: 0.234..  Test Loss: 0.374..  Test Accuracy: 0.876\n",
      "Epoch: 17/30..  Training Loss: 0.230..  Test Loss: 0.380..  Test Accuracy: 0.876\n",
      "Epoch: 18/30..  Training Loss: 0.224..  Test Loss: 0.369..  Test Accuracy: 0.882\n",
      "Epoch: 19/30..  Training Loss: 0.220..  Test Loss: 0.378..  Test Accuracy: 0.881\n",
      "Epoch: 20/30..  Training Loss: 0.220..  Test Loss: 0.395..  Test Accuracy: 0.876\n",
      "Epoch: 21/30..  Training Loss: 0.214..  Test Loss: 0.401..  Test Accuracy: 0.873\n",
      "Epoch: 22/30..  Training Loss: 0.210..  Test Loss: 0.419..  Test Accuracy: 0.878\n",
      "Epoch: 23/30..  Training Loss: 0.207..  Test Loss: 0.407..  Test Accuracy: 0.876\n",
      "Epoch: 24/30..  Training Loss: 0.206..  Test Loss: 0.405..  Test Accuracy: 0.879\n",
      "Epoch: 25/30..  Training Loss: 0.202..  Test Loss: 0.392..  Test Accuracy: 0.883\n",
      "Epoch: 26/30..  Training Loss: 0.203..  Test Loss: 0.419..  Test Accuracy: 0.874\n",
      "Epoch: 27/30..  Training Loss: 0.194..  Test Loss: 0.445..  Test Accuracy: 0.875\n",
      "Epoch: 28/30..  Training Loss: 0.195..  Test Loss: 0.387..  Test Accuracy: 0.881\n",
      "Epoch: 29/30..  Training Loss: 0.188..  Test Loss: 0.423..  Test Accuracy: 0.881\n",
      "Epoch: 30/30..  Training Loss: 0.188..  Test Loss: 0.414..  Test Accuracy: 0.881\n"
     ]
    }
   ],
   "source": [
    "model = Classifier()\n",
    "criterion = nn.NLLLoss()\n",
    "optimizer = torch.optim.Adam(model.parameters(), lr=0.003)\n",
    "\n",
    "epochs = 30\n",
    "steps = 0\n",
    "\n",
    "train_losses, test_losses = [], []\n",
    "for e in range(epochs):\n",
    "    running_loss = 0\n",
    "    for images, labels in trainloader:\n",
    "        \n",
    "        optimizer.zero_grad()\n",
    "        \n",
    "        log_ps = model(images)\n",
    "        loss = criterion(log_ps, labels)\n",
    "        loss.backward()\n",
    "        optimizer.step()\n",
    "        \n",
    "        running_loss += loss.item()\n",
    "        \n",
    "    # for 문이 끝나면 실행한다.\n",
    "    else:\n",
    "        test_loss = 0\n",
    "        accuracy = 0\n",
    "        \n",
    "        # Turn off gradients for validation, saves memory and computations\n",
    "        # 자동 미분을 꺼서 pytorch가 쓸 떼 없는 짓을 안하게 한다. (어차피 test set에서 하는 작업이므로)\n",
    "        with torch.no_grad():\n",
    "            for images, labels in testloader:\n",
    "                log_ps = model(images)\n",
    "                test_loss += criterion(log_ps, labels)\n",
    "                \n",
    "                # 로그 확률에 지수 적용\n",
    "                ps = torch.exp(log_ps)\n",
    "                # topk는 k번째로 큰 숫자를 찾아내는 것이다.\n",
    "                # dim=1 는 dimension을 의미한다.\n",
    "                top_p, top_class = ps.topk(1, dim=1)\n",
    "                # labels를 top_class와 똑같은 형태로 만든다음에, 얼마나 같은게 있는지 확인한다.\n",
    "                equals = top_class == labels.view(*top_class.shape)\n",
    "                # equals를 float으로 바꾸고 평균 정확도를 구한다.\n",
    "                accuracy += torch.mean(equals.type(torch.FloatTensor))\n",
    "                \n",
    "        train_losses.append(running_loss/len(trainloader))\n",
    "        test_losses.append(test_loss/len(testloader))\n",
    "\n",
    "        print(\"Epoch: {}/{}.. \".format(e+1, epochs),\n",
    "              \"Training Loss: {:.3f}.. \".format(running_loss/len(trainloader)),\n",
    "              \"Test Loss: {:.3f}.. \".format(test_loss/len(testloader)),\n",
    "              \"Test Accuracy: {:.3f}\".format(accuracy/len(testloader)))\n"
   ]
  },
  {
   "cell_type": "code",
   "execution_count": 9,
   "metadata": {},
   "outputs": [
    {
     "data": {
      "text/plain": [
       "<matplotlib.legend.Legend at 0x7ff099454d68>"
      ]
     },
     "execution_count": 9,
     "metadata": {},
     "output_type": "execute_result"
    },
    {
     "data": {
      "image/png": "[encoded data removed]",
      "text/plain": [
       "<Figure size 432x288 with 1 Axes>"
      ]
     },
     "metadata": {
      "image/png": {
       "height": 248,
       "width": 380
      },
      "needs_background": "light"
     },
     "output_type": "display_data"
    }
   ],
   "source": [
    "plt.plot(train_losses, label='training loss')\n",
    "plt.plot(test_losses, label='Validation loss')\n",
    "plt.legend(frameon=False)"
   ]
  },
  {
   "cell_type": "code",
   "execution_count": 10,
   "metadata": {},
   "outputs": [],
   "source": [
    "#dropout\n",
    "\n",
    "class Classifier(nn.Module):\n",
    "    def __init__(self):\n",
    "        super().__init__()\n",
    "        self.fc1 = nn.Linear(784, 256)\n",
    "        self.fc2 = nn.Linear(256, 128)\n",
    "        self.fc3 = nn.Linear(128, 64)\n",
    "        self.fc4 = nn.Linear(64, 10)\n",
    "\n",
    "        # 0.2정도를 무작위로 골라 dropout한다.\n",
    "        self.dropout = nn.Dropout(p=0.2)\n",
    "\n",
    "    def forward(self, x):\n",
    "        x = x.view(x.shape[0], -1)\n",
    "\n",
    "        x = self.dropout(nn.functional.relu(self.fc1(x)))\n",
    "        x = self.dropout(nn.functional.relu(self.fc2(x)))\n",
    "        x = self.dropout(nn.functional.relu(self.fc3(x)))\n",
    "\n",
    "        # output은 dropout하면 안된다..\n",
    "        x = nn.functional.log_softmax(self.fc4(x), dim=1)\n",
    "\n",
    "        return x"
   ]
  },
  {
   "cell_type": "code",
   "execution_count": null,
   "metadata": {},
   "outputs": [
    {
     "name": "stdout",
     "output_type": "stream",
     "text": [
      "Epoch: 1/30..  Training Loss: 0.607..  Test Loss: 0.492..  Test Accuracy: 0.813\n",
      "Epoch: 2/30..  Training Loss: 0.483..  Test Loss: 0.453..  Test Accuracy: 0.828\n",
      "Epoch: 3/30..  Training Loss: 0.456..  Test Loss: 0.424..  Test Accuracy: 0.843\n",
      "Epoch: 4/30..  Training Loss: 0.433..  Test Loss: 0.402..  Test Accuracy: 0.854\n",
      "Epoch: 5/30..  Training Loss: 0.423..  Test Loss: 0.414..  Test Accuracy: 0.848\n",
      "Epoch: 6/30..  Training Loss: 0.413..  Test Loss: 0.405..  Test Accuracy: 0.858\n",
      "Epoch: 7/30..  Training Loss: 0.407..  Test Loss: 0.391..  Test Accuracy: 0.861\n",
      "Epoch: 8/30..  Training Loss: 0.399..  Test Loss: 0.418..  Test Accuracy: 0.859\n",
      "Epoch: 9/30..  Training Loss: 0.403..  Test Loss: 0.394..  Test Accuracy: 0.863\n",
      "Epoch: 10/30..  Training Loss: 0.386..  Test Loss: 0.390..  Test Accuracy: 0.859\n",
      "Epoch: 11/30..  Training Loss: 0.389..  Test Loss: 0.394..  Test Accuracy: 0.865\n",
      "Epoch: 12/30..  Training Loss: 0.381..  Test Loss: 0.376..  Test Accuracy: 0.867\n",
      "Epoch: 13/30..  Training Loss: 0.371..  Test Loss: 0.393..  Test Accuracy: 0.869\n",
      "Epoch: 14/30..  Training Loss: 0.379..  Test Loss: 0.398..  Test Accuracy: 0.862\n",
      "Epoch: 15/30..  Training Loss: 0.373..  Test Loss: 0.379..  Test Accuracy: 0.865\n",
      "Epoch: 16/30..  Training Loss: 0.360..  Test Loss: 0.374..  Test Accuracy: 0.868\n",
      "Epoch: 17/30..  Training Loss: 0.368..  Test Loss: 0.388..  Test Accuracy: 0.868\n",
      "Epoch: 18/30..  Training Loss: 0.357..  Test Loss: 0.389..  Test Accuracy: 0.864\n",
      "Epoch: 19/30..  Training Loss: 0.364..  Test Loss: 0.401..  Test Accuracy: 0.864\n",
      "Epoch: 20/30..  Training Loss: 0.357..  Test Loss: 0.391..  Test Accuracy: 0.865\n",
      "Epoch: 21/30..  Training Loss: 0.359..  Test Loss: 0.411..  Test Accuracy: 0.861\n",
      "Epoch: 22/30..  Training Loss: 0.349..  Test Loss: 0.383..  Test Accuracy: 0.873\n",
      "Epoch: 23/30..  Training Loss: 0.359..  Test Loss: 0.380..  Test Accuracy: 0.872\n",
      "Epoch: 24/30..  Training Loss: 0.351..  Test Loss: 0.375..  Test Accuracy: 0.875\n",
      "Epoch: 25/30..  Training Loss: 0.350..  Test Loss: 0.417..  Test Accuracy: 0.857\n",
      "Epoch: 26/30..  Training Loss: 0.351..  Test Loss: 0.364..  Test Accuracy: 0.875\n",
      "Epoch: 27/30..  Training Loss: 0.341..  Test Loss: 0.360..  Test Accuracy: 0.874\n",
      "Epoch: 28/30..  Training Loss: 0.349..  Test Loss: 0.358..  Test Accuracy: 0.876\n",
      "Epoch: 29/30..  Training Loss: 0.349..  Test Loss: 0.376..  Test Accuracy: 0.874\n"
     ]
    }
   ],
   "source": [
    "model = Classifier()\n",
    "criterion = nn.NLLLoss()\n",
    "optimizer = torch.optim.Adam(model.parameters(), lr=0.003)\n",
    "\n",
    "epochs = 30\n",
    "steps = 0\n",
    "\n",
    "train_losses, test_losses = [], []\n",
    "for e in range(epochs):\n",
    "    running_loss = 0\n",
    "    for images, labels in trainloader:\n",
    "        \n",
    "        optimizer.zero_grad()\n",
    "        \n",
    "        log_ps = model(images)\n",
    "        loss = criterion(log_ps, labels)\n",
    "        loss.backward()\n",
    "        optimizer.step()\n",
    "        \n",
    "        running_loss += loss.item()\n",
    "        \n",
    "    else:\n",
    "        test_loss = 0\n",
    "        accuracy = 0\n",
    "        \n",
    "        with torch.no_grad():\n",
    "            # test 과정에 들어간다. dropout을 안하게 된다.\n",
    "            # 정확하게 말하면, dropout 하는 비율이 0이 된다.\n",
    "            model.eval()\n",
    "            for images, labels in testloader:\n",
    "                log_ps = model(images)\n",
    "                test_loss += criterion(log_ps, labels)\n",
    "                \n",
    "                ps = torch.exp(log_ps)\n",
    "                top_p, top_class = ps.topk(1, dim=1)\n",
    "                equals = top_class == labels.view(*top_class.shape)\n",
    "                accuracy += torch.mean(equals.type(torch.FloatTensor))\n",
    "        \n",
    "        # 다시 트레이닝 과정으로 돌아간다.\n",
    "        model.train()\n",
    "        \n",
    "        train_losses.append(running_loss/len(trainloader))\n",
    "        test_losses.append(test_loss/len(testloader))\n",
    "\n",
    "        print(\"Epoch: {}/{}.. \".format(e+1, epochs),\n",
    "              \"Training Loss: {:.3f}.. \".format(train_losses[-1]),\n",
    "              \"Test Loss: {:.3f}.. \".format(test_losses[-1]),\n",
    "              \"Test Accuracy: {:.3f}\".format(accuracy/len(testloader)))"
   ]
  },
  {
   "cell_type": "code",
   "execution_count": null,
   "metadata": {},
   "outputs": [],
   "source": [
    "plt.plot(train_losses, label='Training loss')\n",
    "plt.plot(test_losses, label='Validation loss')\n",
    "plt.legend(frameon=False)"
   ]
  },
  {
   "cell_type": "code",
   "execution_count": null,
   "metadata": {},
   "outputs": [],
   "source": []
  }
 ],
 "metadata": {
  "kernelspec": {
   "display_name": "Python 3",
   "language": "python",
   "name": "python3"
  },
  "language_info": {
   "codemirror_mode": {
    "name": "ipython",
    "version": 3
   },
   "file_extension": ".py",
   "mimetype": "text/x-python",
   "name": "python",
   "nbconvert_exporter": "python",
   "pygments_lexer": "ipython3",
   "version": "3.6.9"
  }
 },
 "nbformat": 4,
 "nbformat_minor": 2
}
